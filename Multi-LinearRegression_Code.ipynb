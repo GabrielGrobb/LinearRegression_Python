{
 "cells": [
  {
   "cell_type": "markdown",
   "metadata": {},
   "source": [
    "<h2>Neccessary Imports</h2>"
   ]
  },
  {
   "cell_type": "code",
   "execution_count": null,
   "metadata": {},
   "outputs": [],
   "source": [
    "# Necessary imports\n",
    "import numpy as np\n",
    "import pandas as pd \n",
    "import matplotlib.pyplot as plt\n",
    "import seaborn as sns\n",
    "\n",
    "from sklearn.preprocessing import LabelEncoder                         # Sklearn import for data pre-processing\n",
    "from sklearn.linear_model import LinearRegression                      # Sklearn import for Linear Regression. \n",
    "from sklearn.metrics import mean_squared_error, r2_score               # Sklearn import for algorithm metrics. \n",
    "from sklearn.model_selection import train_test_split, GridSearchCV     # Sklearn import for train, test split. \n",
    "\n",
    "from sklearn.pipeline import Pipeline\n",
    "from sklearn.preprocessing import StandardScaler, PolynomialFeatures"
   ]
  },
  {
   "cell_type": "markdown",
   "metadata": {},
   "source": [
    "<h2>Loading Dataset into DataFrame</h2>"
   ]
  },
  {
   "cell_type": "code",
   "execution_count": null,
   "metadata": {},
   "outputs": [],
   "source": [
    "# Making use of pandas library to read the csv file. \n",
    "linear_regression_dataframe = pd.read_csv(\"Student_Performance.csv\", delimiter=',')"
   ]
  }
 ],
 "metadata": {
  "language_info": {
   "name": "python"
  }
 },
 "nbformat": 4,
 "nbformat_minor": 2
}
